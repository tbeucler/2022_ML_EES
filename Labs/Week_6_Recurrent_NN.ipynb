{
  "nbformat": 4,
  "nbformat_minor": 0,
  "metadata": {
    "colab": {
      "provenance": [],
      "include_colab_link": true
    },
    "kernelspec": {
      "name": "python3",
      "display_name": "Python 3"
    },
    "language_info": {
      "name": "python"
    }
  },
  "cells": [
    {
      "cell_type": "markdown",
      "metadata": {
        "id": "view-in-github",
        "colab_type": "text"
      },
      "source": [
        "<a href=\"https://colab.research.google.com/github/tbeucler/2022_ML_EES/blob/main/Labs/Week_6_Recurrent_NN.ipynb\" target=\"_parent\"><img src=\"https://colab.research.google.com/assets/colab-badge.svg\" alt=\"Open In Colab\"/></a>"
      ]
    },
    {
      "cell_type": "markdown",
      "source": [
        "# **Welcome to the sixth lab: Recurrent Neural Networks and Long-Short Term Memory (LSTM) Networks!**"
      ],
      "metadata": {
        "id": "jobt71avnVPS"
      }
    },
    {
      "cell_type": "markdown",
      "source": [
        "For this week's lab, the learning objectives are:\n",
        "\n",
        "1.    Implementing and training a recurrent neural network using [`Keras`].\n",
        "\n",
        "2.    Gain intuition on architecture design.\n",
        "\n",
        "3.    Cross-validate a recurrent neural network\n",
        "\n",
        "4.    Use a neural network to generate new data\n",
        "\n",
        "5.    Implementing an LSTM network for Hydrological Applications using [`PyTorch`]"
      ],
      "metadata": {
        "id": "5NmnSWj5oAAT"
      }
    },
    {
      "cell_type": "markdown",
      "source": [
        "Today's tutorial:\n",
        "\n",
        "1.    This exercise adapts Géron et al.'s Jupyter notebook exercises for [chapter 15](\"https://github.com/ageron/handson-ml2/blob/master/15_processing_sequences_using_rnns_and_cnns.ipynb\") \\([License](https://github.com/ageron/handson-ml2/blob/master/LICENSE)) of his book [\"Hands-On Machine Learning with Scikit-Learn, Keras, and TensorFlow, 2nd Edition\"](https://www.oreilly.com/library/view/hands-on-machine-learning/9781492032632/).\n",
        "\n",
        "\n",
        "2.    Adapts a watershed modeling exercise developed by Yikui Zhang (ETH Zurich) for Profs. Nadav Peleg & Peter Molnar, which focuses on modeling the Gsteig catchment. "
      ],
      "metadata": {
        "id": "ZwIvLOstucNV"
      }
    },
    {
      "cell_type": "markdown",
      "source": [
        "If you are struggling with some of the exercises, do not hesitate to:\n",
        "\n",
        "\n",
        "*   Use a direct Internet search, or [stackoverflow](https://stackoverflow.com/)\n",
        "*   Ask your neighbor(s), the teacher, or the TA for help\n",
        "*   Debug your program, e.g. by following [this tutorial](https://swcarpentry.github.io/python-novice-inflammation/11-debugging/index.html)\n",
        "*   Use assertions, e.g. by following [this tutorial](https://swcarpentry.github.io/python-novice-inflammation/10-defensive/index.html)\n",
        "\n"
      ],
      "metadata": {
        "id": "5kqRUzTLpca0"
      }
    },
    {
      "cell_type": "markdown",
      "source": [
        "# Part I: Practice by Composing Music with RNNs"
      ],
      "metadata": {
        "id": "FOjl7quRnlRj"
      }
    },
    {
      "cell_type": "markdown",
      "source": [
        "\n",
        "\n",
        "---\n",
        "\n",
        "Go to notebook [`S6_1_Composing_Music_With_RNNs_CNNs`](https://colab.research.google.com/github/tbeucler/2022_ML_EES/blob/main/Labs/S6_1_Composing_Music_With_RNNs_CNNs.ipynb)\n",
        "\n",
        "---\n",
        "\n",
        "\n"
      ],
      "metadata": {
        "id": "N5GdJyP9tlez"
      }
    },
    {
      "cell_type": "markdown",
      "source": [
        "# Part II: Watershed Modeling with PyTorch LSTMs"
      ],
      "metadata": {
        "id": "Fl4468OlnydI"
      }
    },
    {
      "cell_type": "markdown",
      "source": [
        "\n",
        "\n",
        "---\n",
        "\n",
        "Go to notebook [`S6_2_LSTM`](https://colab.research.google.com/github/tbeucler/2022_ML_EES/blob/main/Labs/S6_2_LSTM.ipynb)\n",
        "\n",
        "---\n",
        "\n",
        "\n"
      ],
      "metadata": {
        "id": "bobHngpDO5lI"
      }
    },
    {
      "cell_type": "markdown",
      "source": [
        "# Way to go with the flow 😎🌧🌧🏄🌧🌧  \n",
        "You've reached the end of week 6's lab. If you're done early, consider:\n",
        "\n",
        "*   Giving feedback on how to improve this notebook (typos, hints, exercises that may be improved/removed/added, etc.) by messaging the teacher and TA(s) on Moodle\n",
        "*   Working on your final project for this course. \n",
        "\n",
        "**Final Project**\n",
        "The final project’s goal is to answer a well-defined scientific question by applying one of the ML algorithms introduced in class on an environmental dataset of your choice (e.g., related to your Masters thesis or your PhD research). \n",
        "\n",
        "*   Now that you found a large environmental dataset linked to a scientific question you are passionate about, which machine learning algorithm can you use to address it? Is it a classification, a regression, or a data exploration project?\n",
        "*   How could you format the dataset to facilitate its manipulation in Python?\n",
        "*   If you're still hunting for a dataset of interest, consider browsing the [list of benchmark datasets](http://mldata.pangeo.io/index.html) maintained by [Pangeo](https://pangeo.io/) and [Kaggle](https://www.kaggle.com/datasets)."
      ],
      "metadata": {
        "id": "Pp_t7AeSARlQ"
      }
    }
  ]
}