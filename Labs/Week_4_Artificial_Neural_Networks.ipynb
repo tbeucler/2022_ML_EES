{
  "nbformat": 4,
  "nbformat_minor": 0,
  "metadata": {
    "colab": {
      "provenance": [],
      "collapsed_sections": [],
      "include_colab_link": true
    },
    "kernelspec": {
      "name": "python3",
      "display_name": "Python 3"
    },
    "language_info": {
      "name": "python"
    }
  },
  "cells": [
    {
      "cell_type": "markdown",
      "metadata": {
        "id": "view-in-github",
        "colab_type": "text"
      },
      "source": [
        "<a href=\"https://colab.research.google.com/github/tbeucler/2022_ML_EES/blob/main/Labs/Week_4_Artificial_Neural_Networks.ipynb\" target=\"_parent\"><img src=\"https://colab.research.google.com/assets/colab-badge.svg\" alt=\"Open In Colab\"/></a>"
      ]
    },
    {
      "cell_type": "markdown",
      "source": [
        "# **Welcome to the fourth lab: Artificial Neural Networks and Surrogate Modeling**"
      ],
      "metadata": {
        "id": "jobt71avnVPS"
      }
    },
    {
      "cell_type": "markdown",
      "source": [
        "For this week's lab, the learning objectives are:\n",
        "\n",
        "1.    Training artificial neural networks using [`Keras`](https://keras.io/)'s sequential and functional Application Programming Interfaces.\n",
        "\n",
        "2.    Normalizing your input data to facilitate deep learning.\n",
        "\n",
        "3.    Implementing callbacks to improve performance and avoid overfitting."
      ],
      "metadata": {
        "id": "5NmnSWj5oAAT"
      }
    },
    {
      "cell_type": "markdown",
      "source": [
        "Today's tutorial:\n",
        "\n",
        "1.    Adapts Géron et al.'s Jupyter notebook exercises for chapters [10](https://github.com/ageron/handson-ml2/blob/master/10_neural_nets_with_keras.ipynb)  [(License)](https://github.com/ageron/handson-ml2/blob/master/LICENSE) of his book [\"Hands-On Machine Learning with Scikit-Learn, Keras, and TensorFlow, 2nd Edition\"](https://www.oreilly.com/library/view/hands-on-machine-learning/9781492032632/),\n",
        "\n",
        "2.    Adapts three articles on climate modeling from [Gentine et al.](https://agupubs.onlinelibrary.wiley.com/doi/full/10.1029/2018GL078202), [Rasp et al.](https://www.pnas.org/doi/10.1073/pnas.1810286115), and [Beucler et al.](https://arxiv.org/pdf/2112.08440), and Python scripts from [Stephan Rasp](https://github.com/raspstephan/CBRAIN-CAM) and [Tom Beucler](https://github.com/tbeucler/CBRAIN-CAM/blob/master/Climate_Invariant_Guide.ipynb). "
      ],
      "metadata": {
        "id": "ZwIvLOstucNV"
      }
    },
    {
      "cell_type": "markdown",
      "source": [
        "If you are struggling with some of the exercises, do not hesitate to:\n",
        "\n",
        "\n",
        "*   Use a direct Internet search, or [stackoverflow](https://stackoverflow.com/)\n",
        "*   Ask your neighbor(s), the teacher, or the TA for help\n",
        "*   Debug your program, e.g. by following [this tutorial](https://swcarpentry.github.io/python-novice-inflammation/11-debugging/index.html)\n",
        "*   Use assertions, e.g. by following [this tutorial](https://swcarpentry.github.io/python-novice-inflammation/10-defensive/index.html)\n",
        "\n"
      ],
      "metadata": {
        "id": "5kqRUzTLpca0"
      }
    },
    {
      "cell_type": "markdown",
      "source": [
        "# Part I: Practice on Simple Datasets"
      ],
      "metadata": {
        "id": "FOjl7quRnlRj"
      }
    },
    {
      "cell_type": "markdown",
      "source": [
        "\n",
        "\n",
        "---\n",
        "\n",
        "Go to notebook [`S4_1_NNs_with_Keras`](https://colab.research.google.com/github/tbeucler/2022_ML_EES/blob/main/Labs/S4_1_NNs_with_Keras.ipynb)\n",
        "\n",
        "---\n",
        "\n",
        "\n"
      ],
      "metadata": {
        "id": "N5GdJyP9tlez"
      }
    },
    {
      "cell_type": "markdown",
      "source": [
        "# Part II: Application to the Emulation of Atmospheric Convection for Climate Modeling"
      ],
      "metadata": {
        "id": "Fl4468OlnydI"
      }
    },
    {
      "cell_type": "markdown",
      "source": [
        "\n",
        "\n",
        "---\n",
        "\n",
        "Following student feedback, we are only keeping one notebook for this week so that you have more time to work on your final projects. 👍\n",
        "<!-- Go to notebook [`S4_2_ANNs_for_Climate`](https://colab.research.google.com/github/tbeucler/2022_ML_Earth_Env_Sci/blob/main/Lab_Notebooks/S5_2_ANNs_for_Climate.ipynb) -->\n",
        "\n",
        "\n",
        "---\n",
        "\n"
      ],
      "metadata": {
        "id": "bobHngpDO5lI"
      }
    },
    {
      "cell_type": "markdown",
      "source": [
        "# You're flying high! ⛈🌧 😃 🌧⛈\n",
        "You've reached the end of week 5's lab. If you're done early, consider:\n",
        "\n",
        "*   Giving feedback on how to improve this notebook (typos, hints, exercises that may be improved/removed/added, etc.) by messaging the teacher and TA(s) on Moodle\n",
        "*   Working on your final project for this course. \n",
        "\n",
        "**Final Project**\n",
        "The final project’s goal is to answer a well-defined scientific question by applying one of the ML algorithms introduced in class on an environmental dataset of your choice (e.g., related to your Masters thesis or your PhD research). \n",
        "\n",
        "*   Now that you found a large environmental dataset linked to a scientific question you are passionate about, which machine learning algorithm can you use to address it? Is it a classification, a regression, or a data exploration project?\n",
        "*   How could you format the dataset to facilitate its manipulation in Python?\n",
        "*   If you're still hunting for a dataset of interest, consider browsing the [list of benchmark datasets](http://mldata.pangeo.io/index.html) maintained by [Pangeo](https://pangeo.io/) and [Kaggle](https://www.kaggle.com/datasets)."
      ],
      "metadata": {
        "id": "Pp_t7AeSARlQ"
      }
    }
  ]
}
