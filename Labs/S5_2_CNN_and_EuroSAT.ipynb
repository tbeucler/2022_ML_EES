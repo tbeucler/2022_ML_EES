{
  "cells": [
    {
      "cell_type": "markdown",
      "metadata": {
        "id": "view-in-github",
        "colab_type": "text"
      },
      "source": [
        "<a href=\"https://colab.research.google.com/github/tbeucler/2022_ML_EES/blob/main/Labs/S7_2_CNN.ipynb\" target=\"_parent\"><img src=\"https://colab.research.google.com/assets/colab-badge.svg\" alt=\"Open In Colab\"/></a>"
      ]
    },
    {
      "cell_type": "markdown",
      "source": [
        "Source: https://www.coursera.org/learn/getting-started-with-tensor-flow2"
      ],
      "metadata": {
        "id": "gsVjobuI_mTc"
      }
    },
    {
      "cell_type": "code",
      "execution_count": null,
      "metadata": {
        "id": "SLxSwU95suQL"
      },
      "outputs": [],
      "source": [
        "#### PACKAGE IMPORTS ####\n",
        "\n",
        "# Run this cell first to import all required packages. Do not make any imports elsewhere in the notebook\n",
        "\n",
        "import tensorflow as tf\n",
        "from tensorflow.keras.preprocessing.image import load_img, img_to_array\n",
        "from tensorflow.keras.models import Sequential, load_model\n",
        "from tensorflow.keras.layers import Dense, Flatten, Conv2D, MaxPooling2D\n",
        "from tensorflow.keras.callbacks import ModelCheckpoint, EarlyStopping\n",
        "import os\n",
        "import numpy as np\n",
        "import pandas as pd\n",
        "\n",
        "# If you would like to make further imports from tensorflow, add them here\n",
        "\n"
      ]
    },
    {
      "cell_type": "code",
      "source": [
        "#### DOWNLOAD DATA ####\n",
        "!gdown 1qojXiBPdOOkH-kUGxe4vhx20-z7yyq2M"
      ],
      "metadata": {
        "id": "3M5B1MGLi4EP",
        "colab": {
          "base_uri": "https://localhost:8080/"
        },
        "outputId": "b24284fa-37d2-4b3e-9160-d54b3675e3c4"
      },
      "execution_count": null,
      "outputs": [
        {
          "output_type": "stream",
          "name": "stdout",
          "text": [
            "Downloading...\n",
            "From: https://drive.google.com/uc?id=1qojXiBPdOOkH-kUGxe4vhx20-z7yyq2M\n",
            "To: /content/data_cnn.zip\n",
            "100% 55.2M/55.2M [00:00<00:00, 90.6MB/s]\n"
          ]
        }
      ]
    },
    {
      "cell_type": "code",
      "source": [
        "!unzip '/content/data_cnn.zip'"
      ],
      "metadata": {
        "id": "Njg-KEZwi3HY",
        "colab": {
          "base_uri": "https://localhost:8080/"
        },
        "outputId": "0abf61ea-3e2f-48f6-c77f-a003960e8dd5"
      },
      "execution_count": null,
      "outputs": [
        {
          "output_type": "stream",
          "name": "stdout",
          "text": [
            "Archive:  /content/data_cnn.zip\n",
            "   creating: data_cnn/\n",
            "  inflating: data_cnn/eurosat_overview.jpg  \n",
            "  inflating: data_cnn/x_test.npy     \n",
            "  inflating: data_cnn/x_train.npy    \n",
            "  inflating: data_cnn/y_test.npy     \n",
            "  inflating: data_cnn/y_train.npy    \n"
          ]
        }
      ]
    },
    {
      "cell_type": "markdown",
      "metadata": {
        "id": "tMW44o7zsuQN"
      },
      "source": [
        "![EuroSAT overview image](content/data_cnn/eurosat_overview.jpg)\n",
        "\n",
        "#### The EuroSAT dataset\n",
        "\n",
        "In this assignment, you will use the [EuroSAT dataset](https://github.com/phelber/EuroSAT). It consists of 27000 labelled Sentinel-2 satellite images of different land uses: residential, industrial, highway, river, forest, pasture, herbaceous vegetation, annual crop, permanent crop and sea/lake. For a reference, see the following papers:\n",
        "- Eurosat: A novel dataset and deep learning benchmark for land use and land cover classification. Patrick Helber, Benjamin Bischke, Andreas Dengel, Damian Borth. IEEE Journal of Selected Topics in Applied Earth Observations and Remote Sensing, 2019.\n",
        "- Introducing EuroSAT: A Novel Dataset and Deep Learning Benchmark for Land Use and Land Cover Classification. Patrick Helber, Benjamin Bischke, Andreas Dengel. 2018 IEEE International Geoscience and Remote Sensing Symposium, 2018.\n",
        "\n",
        "Your goal is to construct a neural network that classifies a satellite image into one of these 10 classes, as well as applying some of the saving and loading techniques you have learned in the previous sessions."
      ]
    },
    {
      "cell_type": "markdown",
      "metadata": {
        "id": "DTtnxJF4suQN"
      },
      "source": [
        "#### Import the data\n",
        "\n",
        "The dataset you will train your model on is a subset of the total data, with 4000 training images and 1000 testing images, with roughly equal numbers of each class. The code to import the data is provided below."
      ]
    },
    {
      "cell_type": "code",
      "execution_count": null,
      "metadata": {
        "id": "0GTIx3_esuQO"
      },
      "outputs": [],
      "source": [
        "# Run this cell to import the Eurosat data\n",
        "\n",
        "def load_eurosat_data():\n",
        "    data_dir = '/content/data_cnn'\n",
        "    x_train = np.load(os.path.join(data_dir, 'x_train.npy'))\n",
        "    y_train = np.load(os.path.join(data_dir, 'y_train.npy'))\n",
        "    x_test  = np.load(os.path.join(data_dir, 'x_test.npy'))\n",
        "    y_test  = np.load(os.path.join(data_dir, 'y_test.npy'))\n",
        "    return (x_train, y_train), (x_test, y_test)\n",
        "\n",
        "(x_train, y_train), (x_test, y_test) = load_eurosat_data()\n",
        "x_train = x_train / 255.0\n",
        "x_test = x_test / 255.0"
      ]
    },
    {
      "cell_type": "markdown",
      "metadata": {
        "id": "fIM7KrWIsuQP"
      },
      "source": [
        "####Q1 Build the neural network model"
      ]
    },
    {
      "cell_type": "markdown",
      "metadata": {
        "id": "BtFKnT-lsuQP"
      },
      "source": [
        "You can now construct a model to fit to the data. Using the Sequential API, build your model according to the following specifications:\n",
        "\n",
        "* The model should use the input_shape in the function argument to set the input size in the first layer.\n",
        "* The first layer should be a Conv2D layer with 16 filters, a 3x3 kernel size, a ReLU activation function and 'SAME' padding. Name this layer 'conv_1'.\n",
        "* The second layer should also be a Conv2D layer with 8 filters, a 3x3 kernel size, a ReLU activation function and 'SAME' padding. Name this layer 'conv_2'.\n",
        "* The third layer should be a MaxPooling2D layer with a pooling window size of 8x8. Name this layer 'pool_1'.\n",
        "* The fourth layer should be a Flatten layer, named 'flatten'.\n",
        "* The fifth layer should be a Dense layer with 32 units, a ReLU activation. Name this layer 'dense_1'.\n",
        "* The sixth and final layer should be a Dense layer with 10 units and softmax activation. Name this layer 'dense_2'.\n",
        "\n",
        "In total, the network should have 6 layers."
      ]
    },
    {
      "cell_type": "code",
      "execution_count": null,
      "metadata": {
        "id": "O2EQYCsmsuQQ"
      },
      "outputs": [],
      "source": [
        "# Complete the following function. \n",
        "# Make sure to not change the function name or arguments.\n",
        "\n",
        "def get_new_model(input_shape):\n",
        "    \"\"\"\n",
        "    This function should build a Sequential model according to the above specification. Ensure the \n",
        "    weights are initialised by providing the input_shape argument in the first layer, given by the\n",
        "    function argument.\n",
        "    Your function should also compile the model with the Adam optimiser, sparse categorical cross\n",
        "    entropy loss function, and a single accuracy metric.\n",
        "    \"\"\"\n",
        "    \n",
        "    \n",
        "    "
      ]
    },
    {
      "cell_type": "markdown",
      "metadata": {
        "id": "AgYHw0n3suQR"
      },
      "source": [
        "####Q2 Compile and evaluate the model"
      ]
    },
    {
      "cell_type": "code",
      "execution_count": null,
      "metadata": {
        "id": "LFsvYKQRsuQS"
      },
      "outputs": [],
      "source": [
        "# Run your function to create the model\n",
        "model = get_new_model(x_train[0].shape)"
      ]
    },
    {
      "cell_type": "code",
      "execution_count": null,
      "metadata": {
        "id": "TzctJmSYsuQS"
      },
      "outputs": [],
      "source": [
        "# Run this cell to define a function to evaluate a model's test accuracy\n",
        "def get_test_accuracy(model, x_test, y_test):\n",
        "    \"\"\"Test model classification accuracy\"\"\"\n",
        "    test_loss, test_acc = model.evaluate(x=x_test, y=y_test, verbose=0)\n",
        "    print('accuracy: {acc:0.3f}'.format(acc=test_acc))"
      ]
    },
    {
      "cell_type": "code",
      "execution_count": null,
      "metadata": {
        "id": "zm_pDCJrsuQS"
      },
      "outputs": [],
      "source": [
        "# Print the model summary and calculate its initialised test accuracy\n",
        "model.summary()\n",
        "get_test_accuracy(model, x_test, y_test)"
      ]
    },
    {
      "cell_type": "markdown",
      "metadata": {
        "id": "5OzHuuD6suQT"
      },
      "source": [
        "####Q3 Create checkpoints to save model during training, with a criterion\n",
        "\n",
        "You will now create three callbacks:\n",
        "- `checkpoint_every_epoch`: checkpoint that saves the model weights every epoch during training\n",
        "- `checkpoint_best_only`: checkpoint that saves only the weights with the highest validation accuracy. Use the testing data as the validation data.\n",
        "- `early_stopping`: early stopping object that ends training if the validation accuracy has not improved in 3 epochs."
      ]
    },
    {
      "cell_type": "code",
      "source": [
        "# Complete the following functions. \n",
        "# Make sure to not change the function names or arguments.\n",
        "\n",
        "def get_checkpoint_every_epoch():\n",
        "    \"\"\"\n",
        "    This function should return a ModelCheckpoint object that:\n",
        "    - saves the weights only at the end of every epoch\n",
        "    - saves into a directory called 'checkpoints_every_epoch' inside the current working directory\n",
        "    - generates filenames in that directory like 'checkpoint_XXX' where\n",
        "      XXX is the epoch number formatted to have three digits, e.g. 001, 002, 003, etc.\n",
        "    \"\"\"\n",
        "    \n",
        "    \n",
        "\n",
        "\n",
        "def get_checkpoint_best_only():\n",
        "    \"\"\"\n",
        "    This function should return a ModelCheckpoint object that:\n",
        "    - saves only the weights that generate the highest validation (testing) accuracy\n",
        "    - saves into a directory called 'checkpoints_best_only' inside the current working directory\n",
        "    - generates a file called 'checkpoints_best_only/checkpoint' \n",
        "    \"\"\"\n",
        "    \n",
        "    "
      ],
      "metadata": {
        "id": "Z6XYC3_t-UUj"
      },
      "execution_count": null,
      "outputs": []
    },
    {
      "cell_type": "code",
      "source": [
        "# Complete the following function. \n",
        "# Make sure to not change the function name or arguments.\n",
        "\n",
        "def get_early_stopping():\n",
        "    \"\"\"\n",
        "    This function should return an EarlyStopping callback that stops training when\n",
        "    the validation (testing) accuracy has not improved in the last 3 epochs.\n",
        "    HINT: use the EarlyStopping callback with the correct 'monitor' and 'patience'\n",
        "    \"\"\"\n",
        "     "
      ],
      "metadata": {
        "id": "q6leLJIfAWcr"
      },
      "execution_count": null,
      "outputs": []
    },
    {
      "cell_type": "code",
      "source": [
        "# Run this cell to create the callbacks\n",
        "\n",
        "checkpoint_every_epoch = get_checkpoint_every_epoch()\n",
        "checkpoint_best_only = get_checkpoint_best_only()\n",
        "early_stopping = get_early_stopping()"
      ],
      "metadata": {
        "id": "WarI9kseAb4t"
      },
      "execution_count": null,
      "outputs": []
    },
    {
      "cell_type": "markdown",
      "metadata": {
        "id": "hnqBq0L4suQU"
      },
      "source": [
        "####Q4 Train model using the callbacks\n",
        "\n",
        "Now, you will train the model using the three callbacks you created. If you created the callbacks correctly, three things should happen:\n",
        "- At the end of every epoch, the model weights are saved into a directory called `checkpoints_every_epoch`\n",
        "- At the end of every epoch, the model weights are saved into a directory called `checkpoints_best_only` **only** if those weights lead to the highest test accuracy\n",
        "- Training stops when the testing accuracy has not improved in three epochs.\n",
        "\n",
        "You should then have two directories:\n",
        "- A directory called `checkpoints_every_epoch` containing filenames that include `checkpoint_001`, `checkpoint_002`, etc with the `001`, `002` corresponding to the epoch\n",
        "- A directory called `checkpoints_best_only` containing filenames that include `checkpoint`, which contain only the weights leading to the highest testing accuracy"
      ]
    },
    {
      "cell_type": "code",
      "execution_count": null,
      "metadata": {
        "id": "a32_B6c7suQV"
      },
      "outputs": [],
      "source": [
        "# Train model using the callbacks you just created\n",
        "\n",
        "callbacks = [checkpoint_every_epoch, checkpoint_best_only, early_stopping]\n",
        "model.fit(x_train, y_train, epochs=50, validation_data=(x_test, y_test), callbacks=callbacks)"
      ]
    },
    {
      "cell_type": "markdown",
      "metadata": {
        "id": "FDPGNxTGsuQV"
      },
      "source": [
        "####Q5 Create new instance of model and load on both sets of weights\n",
        "\n",
        "Now you will use the weights you just saved in a fresh model. You should create two functions, both of which take a freshly instantiated model instance:\n",
        "- `model_last_epoch` should contain the weights from the latest saved epoch\n",
        "- `model_best_epoch` should contain the weights from the saved epoch with the highest testing accuracy\n",
        "\n",
        "_Hint: use the_ `tf.train.latest_checkpoint` _function to get the filename of the latest saved checkpoint file. Check the docs_ [_here_](https://www.tensorflow.org/api_docs/python/tf/train/latest_checkpoint)."
      ]
    },
    {
      "cell_type": "code",
      "source": [
        "# Complete the following functions. \n",
        "# Make sure to not change the function name or arguments.\n",
        "\n",
        "def get_model_last_epoch(model):\n",
        "    \"\"\"\n",
        "    This function should create a new instance of the CNN you created earlier,\n",
        "    load on the weights from the last training epoch, and return this model.\n",
        "    \"\"\"\n",
        "    \n",
        "    \n",
        "    \n",
        "    \n",
        "def get_model_best_epoch(model):\n",
        "    \"\"\"\n",
        "    This function should create a new instance of the CNN you created earlier, load \n",
        "    on the weights leading to the highest validation accuracy, and return this model.\n",
        "    \"\"\"\n",
        "    \n",
        "    "
      ],
      "metadata": {
        "id": "RQayVP8N-Vuz"
      },
      "execution_count": null,
      "outputs": []
    },
    {
      "cell_type": "code",
      "source": [
        "# Run this cell to create two models: one with the weights from the last training\n",
        "# epoch, and one with the weights leading to the highest validation (testing) accuracy.\n",
        "# Verify that the second has a higher validation (testing) accuarcy.\n",
        "\n",
        "model_last_epoch = get_model_last_epoch(get_new_model(x_train[0].shape))\n",
        "model_best_epoch = get_model_best_epoch(get_new_model(x_train[0].shape))\n",
        "print('Model with last epoch weights:')\n",
        "get_test_accuracy(model_last_epoch, x_test, y_test)\n",
        "print('')\n",
        "print('Model with best epoch weights:')\n",
        "get_test_accuracy(model_best_epoch, x_test, y_test)"
      ],
      "metadata": {
        "id": "njqd2IQmAzBm"
      },
      "execution_count": null,
      "outputs": []
    },
    {
      "cell_type": "markdown",
      "metadata": {
        "id": "57YB5bgpsuQW"
      },
      "source": [
        "####Q6 Load, from scratch, a model trained on the EuroSat dataset.\n",
        "\n",
        "In your workspace, you will find another model trained on the `EuroSAT` dataset in `.h5` format. This model is trained on a larger subset of the EuroSAT dataset and has a more complex architecture. The path to the model is `models/EuroSatNet.h5`. See how its testing accuracy compares to your model!"
      ]
    },
    {
      "cell_type": "code",
      "source": [
        "# Complete the following functions. \n",
        "# Make sure to not change the function name or arguments.\n",
        "\n",
        "def get_model_eurosatnet():\n",
        "    \"\"\"\n",
        "    This function should return the pretrained EuroSatNet.h5 model.\n",
        "    \"\"\"\n",
        "    "
      ],
      "metadata": {
        "id": "XH3THB8y-WJJ"
      },
      "execution_count": null,
      "outputs": []
    },
    {
      "cell_type": "code",
      "source": [
        "# Run this cell to print a summary of the EuroSatNet model, along with its validation accuracy.\n",
        "\n",
        "model_eurosatnet = get_model_eurosatnet()\n",
        "model_eurosatnet.summary()\n",
        "get_test_accuracy(model_eurosatnet, x_test, y_test)"
      ],
      "metadata": {
        "id": "4tnb2ff5A7jl"
      },
      "execution_count": null,
      "outputs": []
    }
  ],
  "metadata": {
    "coursera": {
      "course_slug": "tensor-flow-2-1",
      "graded_item_id": "JaRY0",
      "launcher_item_id": "mJ8fg"
    },
    "kernelspec": {
      "display_name": "Python 3",
      "language": "python",
      "name": "python3"
    },
    "language_info": {
      "codemirror_mode": {
        "name": "ipython",
        "version": 3
      },
      "file_extension": ".py",
      "mimetype": "text/x-python",
      "name": "python",
      "nbconvert_exporter": "python",
      "pygments_lexer": "ipython3",
      "version": "3.7.1"
    },
    "colab": {
      "provenance": [],
      "include_colab_link": true
    }
  },
  "nbformat": 4,
  "nbformat_minor": 0
}
