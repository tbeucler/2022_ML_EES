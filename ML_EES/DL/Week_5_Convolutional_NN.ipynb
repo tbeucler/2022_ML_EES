{
  "cells": [
    {
      "cell_type": "markdown",
      "metadata": {
        "id": "view-in-github",
        "colab_type": "text"
      },
      "source": [
        "<a href=\"https://colab.research.google.com/github/tbeucler/2022_ML_EES/blob/main/ML_EES/DL/Week_5_Convolutional_NN.ipynb\" target=\"_parent\"><img src=\"https://colab.research.google.com/assets/colab-badge.svg\" alt=\"Open In Colab\"/></a>"
      ]
    },
    {
      "cell_type": "markdown",
      "metadata": {
        "id": "IY2vdUC9L0_F"
      },
      "source": [
        "# Convolutional Neural Networks and Remote Sensing"
      ]
    },
    {
      "cell_type": "markdown",
      "source": [
        "In this chapter, our learning objectives are to:\n",
        "\n",
        "1.  Implement a convolutional neural network (CNN)\n",
        "2.  Understand how CNNs can be applied for image classification  \n",
        "3.  Understand how CNNs can be used for remote sensing applications, such as land classification"
      ],
      "metadata": {
        "id": "-Y_3xDf0ixzV"
      }
    }
  ],
  "metadata": {
    "accelerator": "GPU",
    "colab": {
      "name": "S5_1_CNNs.ipynb",
      "toc_visible": true,
      "provenance": [],
      "include_colab_link": true
    },
    "kernelspec": {
      "display_name": "Python 3",
      "name": "python3"
    },
    "language_info": {
      "name": "python"
    }
  },
  "nbformat": 4,
  "nbformat_minor": 0
}